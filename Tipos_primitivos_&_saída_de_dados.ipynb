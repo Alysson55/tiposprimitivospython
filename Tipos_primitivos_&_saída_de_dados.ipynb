{
  "nbformat": 4,
  "nbformat_minor": 0,
  "metadata": {
    "colab": {
      "name": "Tipos primitivos & saída de dados",
      "provenance": [],
      "collapsed_sections": [],
      "authorship_tag": "ABX9TyPa22KQfn/gnSmWo6mRLsrl",
      "include_colab_link": true
    },
    "kernelspec": {
      "name": "python3",
      "display_name": "Python 3"
    },
    "language_info": {
      "name": "python"
    }
  },
  "cells": [
    {
      "cell_type": "markdown",
      "metadata": {
        "id": "view-in-github",
        "colab_type": "text"
      },
      "source": [
        "<a href=\"https://colab.research.google.com/github/Alysson55/tiposprimitivospython/blob/main/Tipos_primitivos_%26_sa%C3%ADda_de_dados.ipynb\" target=\"_parent\"><img src=\"https://colab.research.google.com/assets/colab-badge.svg\" alt=\"Open In Colab\"/></a>"
      ]
    },
    {
      "cell_type": "code",
      "metadata": {
        "id": "Ktpy36ZKJasF",
        "colab": {
          "base_uri": "https://localhost:8080/"
        },
        "outputId": "fca8a59a-790a-48f5-a24e-a22399a0d52b"
      },
      "source": [
        "n1 = int(input('digite um número'))\n",
        "n2 = int(input('digite um número'))\n",
        "s=n1+n2\n",
        "print('a soma vale', s)"
      ],
      "execution_count": null,
      "outputs": [
        {
          "output_type": "stream",
          "name": "stdout",
          "text": [
            "digite um número1\n",
            "digite um número2\n",
            "a soma vale 3\n"
          ]
        }
      ]
    },
    {
      "cell_type": "code",
      "metadata": {
        "colab": {
          "base_uri": "https://localhost:8080/"
        },
        "id": "NraVxLbAfnhy",
        "outputId": "51a0eae8-3cc7-425a-feb9-ffe86628ee92"
      },
      "source": [
        "n1 = input('digite um número')\n",
        "n2 = input('digite um número')\n",
        "s=n1+n2\n",
        "print('a soma vale', s)"
      ],
      "execution_count": null,
      "outputs": [
        {
          "output_type": "stream",
          "name": "stdout",
          "text": [
            "digite um número1\n",
            "digite um número2\n",
            "a soma vale 12\n"
          ]
        }
      ]
    },
    {
      "cell_type": "markdown",
      "metadata": {
        "id": "jnXrOa8yfv_W"
      },
      "source": [
        "Destaques: na primeira celula eu usei o int para converter para numero inteiro, então eu abri parenteses logo apos digitar int e fechei no final da linha \n",
        "Portanto os numeros serão feito adição \n",
        "\n",
        "▪︎Já na segunda linha eu nao utilizo o int , ou seja mesmo que eu digite um numero inteiro o programa irá ler e rodar como se fosse uma string como no exemplo em que eu digitei 1 e 2 e ao inves de fazer adição, o programa juntou as 2 strings que dá o número 12\n",
        "*obs:. Em python quando juntamos 2 strings isso se chama concatenação"
      ]
    },
    {
      "cell_type": "markdown",
      "metadata": {
        "id": "CU-zwg2Wg0ws"
      },
      "source": [
        "Tipos primitivos\n",
        "*int ex: 6, -9, 0, 6532\n",
        "*float ex: 8.2, 0.0014, -77.881, 9.0\n",
        "*bool ex: True ou False\n",
        "*str ex: 'ola', '7,5', ''\n",
        "Obs: strings sempre veem entre aspas independente se for letras ou números \n",
        "Booleanos: True ou False sempre tem que iniciar com letra maiúscula"
      ]
    },
    {
      "cell_type": "code",
      "metadata": {
        "colab": {
          "base_uri": "https://localhost:8080/"
        },
        "id": "aA0XZXNHhwB7",
        "outputId": "3ff57a6f-7f4f-451c-a190-1474845be3b6"
      },
      "source": [
        "print('a soma vale{}'.format(s))"
      ],
      "execution_count": null,
      "outputs": [
        {
          "output_type": "stream",
          "name": "stdout",
          "text": [
            "a soma vale12\n"
          ]
        }
      ]
    },
    {
      "cell_type": "markdown",
      "metadata": {
        "id": "5WOep2kTiQtM"
      },
      "source": [
        "Praticando..."
      ]
    },
    {
      "cell_type": "code",
      "metadata": {
        "colab": {
          "base_uri": "https://localhost:8080/"
        },
        "id": "LYRRxvVciSsO",
        "outputId": "4122e48b-1fd1-4d49-a278-5ff6c0504556"
      },
      "source": [
        "n1 = input('digite um valor: ')\n",
        "print(type(n1))"
      ],
      "execution_count": null,
      "outputs": [
        {
          "output_type": "stream",
          "name": "stdout",
          "text": [
            "digite um valor: 5\n",
            "<class 'str'>\n"
          ]
        }
      ]
    },
    {
      "cell_type": "markdown",
      "metadata": {
        "id": "RoUqN714iv8_"
      },
      "source": [
        "A classe é string, eu quero um numero inteiro\n",
        "Vamos converter"
      ]
    },
    {
      "cell_type": "code",
      "metadata": {
        "colab": {
          "base_uri": "https://localhost:8080/"
        },
        "id": "xKgErwpFi65H",
        "outputId": "27578d65-70e2-47a6-8b19-2e31e03749c4"
      },
      "source": [
        "n1 = int(input('digite um valor'))\n",
        "print(type(n1))"
      ],
      "execution_count": null,
      "outputs": [
        {
          "output_type": "stream",
          "name": "stdout",
          "text": [
            "digite um valor5\n",
            "<class 'int'>\n"
          ]
        }
      ]
    },
    {
      "cell_type": "code",
      "metadata": {
        "id": "wiL7ewKlknTV"
      },
      "source": [
        ""
      ],
      "execution_count": null,
      "outputs": []
    },
    {
      "cell_type": "markdown",
      "metadata": {
        "id": "xaZ9gMS6jQb5"
      },
      "source": [
        "Agora sim apareceu,  a classe dele é inteiro representado por 'int'"
      ]
    },
    {
      "cell_type": "code",
      "metadata": {
        "colab": {
          "base_uri": "https://localhost:8080/"
        },
        "id": "xU2jFc2AjdeX",
        "outputId": "25ef6acd-5f45-494c-f08b-c665ea82a669"
      },
      "source": [
        "n2 = int(input('digite outro'))\n",
        "s = n1+n2\n",
        "print('A soma vale', s)"
      ],
      "execution_count": null,
      "outputs": [
        {
          "output_type": "stream",
          "name": "stdout",
          "text": [
            "digite outro9\n",
            "A soma vale 14\n"
          ]
        }
      ]
    },
    {
      "cell_type": "markdown",
      "metadata": {
        "id": "wqpfQoerj_Iz"
      },
      "source": [
        "Sem conversao int"
      ]
    },
    {
      "cell_type": "code",
      "metadata": {
        "colab": {
          "base_uri": "https://localhost:8080/"
        },
        "id": "ZEzz16zjkBg1",
        "outputId": "542ab2a0-410c-4223-cb09-47f1f064bd12"
      },
      "source": [
        "n2 = input('digite outro')\n",
        "s = n1+n2\n",
        "print('A soma vale', s)"
      ],
      "execution_count": null,
      "outputs": [
        {
          "output_type": "stream",
          "name": "stdout",
          "text": [
            "digite outro5\n",
            "A soma vale 95\n"
          ]
        }
      ]
    },
    {
      "cell_type": "code",
      "metadata": {
        "colab": {
          "base_uri": "https://localhost:8080/"
        },
        "id": "5qx0CNkHk5Rj",
        "outputId": "dba7c532-82a0-4306-d0a9-70368dc052e2"
      },
      "source": [
        "n2 =(input('digite outro'))\n",
        "s = n1+n2\n",
        "print('A soma entre', n1, 'e', n2, 'vale', s)"
      ],
      "execution_count": null,
      "outputs": [
        {
          "output_type": "stream",
          "name": "stdout",
          "text": [
            "digite outro9\n",
            "A soma entre 9 e 9 vale 99\n"
          ]
        }
      ]
    },
    {
      "cell_type": "code",
      "metadata": {
        "colab": {
          "base_uri": "https://localhost:8080/"
        },
        "id": "37yZDvLtmQJN",
        "outputId": "fce19ac2-da0c-413f-a620-ae1aa68c9e60"
      },
      "source": [
        "n2 =(input('digite outro'))\n",
        "s = n1+n2\n",
        "#print('A soma entre', n1, 'e', n2, 'vale', s)\n",
        "print('A soma entre {} e {} vale {}'.format(n1,n2, s))"
      ],
      "execution_count": null,
      "outputs": [
        {
          "output_type": "stream",
          "name": "stdout",
          "text": [
            "digite outro1\n",
            "A soma entre 9 e 1 vale 91\n"
          ]
        }
      ]
    },
    {
      "cell_type": "markdown",
      "metadata": {
        "id": "6i8m7G2zoQwJ"
      },
      "source": [
        "Formatação. Format\n",
        "* sempre se usa chaves e depois das aspas escreve se .format"
      ]
    }
  ]
}